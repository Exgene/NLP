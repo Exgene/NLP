{
 "cells": [
  {
   "cell_type": "code",
   "execution_count": 1,
   "metadata": {},
   "outputs": [
    {
     "name": "stdout",
     "output_type": "stream",
     "text": [
      "Hello World!\n"
     ]
    }
   ],
   "source": [
    "print(\"Hello World!\")"
   ]
  },
  {
   "cell_type": "code",
   "execution_count": 2,
   "metadata": {},
   "outputs": [
    {
     "name": "stderr",
     "output_type": "stream",
     "text": [
      "No model was supplied, defaulted to distilbert-base-uncased-finetuned-sst-2-english and revision af0f99b (https://huggingface.co/distilbert-base-uncased-finetuned-sst-2-english).\n",
      "Using a pipeline without specifying a model name and revision in production is not recommended.\n"
     ]
    }
   ],
   "source": [
    "from transformers import pipeline\n",
    "classifier = pipeline('sentiment-analysis')"
   ]
  },
  {
   "cell_type": "code",
   "execution_count": 3,
   "metadata": {},
   "outputs": [],
   "source": [
    "sent = [\"We are very happy to show you the Transformers library.\",\"We hope you don't hate it.\",\"I hope you will love to join NLP class\",\"The pizza is great\",\"खाना खराब है\",\"ये कपड़े अच्छे हैं\",\"Here chats are good\"]"
   ]
  },
  {
   "cell_type": "code",
   "execution_count": 4,
   "metadata": {},
   "outputs": [
    {
     "data": {
      "text/plain": [
       "['We are very happy to show you the Transformers library.',\n",
       " \"We hope you don't hate it.\",\n",
       " 'I hope you will love to join NLP class',\n",
       " 'The pizza is great',\n",
       " 'खाना खराब है',\n",
       " 'ये कपड़े अच्छे हैं',\n",
       " 'Here chats are good']"
      ]
     },
     "execution_count": 4,
     "metadata": {},
     "output_type": "execute_result"
    }
   ],
   "source": [
    "sent"
   ]
  },
  {
   "cell_type": "code",
   "execution_count": 5,
   "metadata": {},
   "outputs": [
    {
     "name": "stdout",
     "output_type": "stream",
     "text": [
      "[{'label': 'POSITIVE', 'score': 0.9997994303703308}]\n",
      "[{'label': 'NEGATIVE', 'score': 0.5308606028556824}]\n",
      "[{'label': 'POSITIVE', 'score': 0.999556839466095}]\n",
      "[{'label': 'POSITIVE', 'score': 0.9998295307159424}]\n",
      "[{'label': 'NEGATIVE', 'score': 0.7817021012306213}]\n",
      "[{'label': 'POSITIVE', 'score': 0.5596343874931335}]\n",
      "[{'label': 'POSITIVE', 'score': 0.9997318387031555}]\n"
     ]
    }
   ],
   "source": [
    "for sentence in sent:\n",
    "   print(classifier(sentence))"
   ]
  },
  {
   "cell_type": "code",
   "execution_count": 6,
   "metadata": {},
   "outputs": [],
   "source": [
    "fine_class = pipeline('sentiment-analysis',model=\"nlptown/bert-base-multilingual-uncased-sentiment\")"
   ]
  },
  {
   "cell_type": "code",
   "execution_count": 7,
   "metadata": {},
   "outputs": [
    {
     "name": "stdout",
     "output_type": "stream",
     "text": [
      "[{'label': '5 stars', 'score': 0.7495924830436707}]\n",
      "[{'label': '5 stars', 'score': 0.23652468621730804}]\n",
      "[{'label': '5 stars', 'score': 0.4664449095726013}]\n",
      "[{'label': '5 stars', 'score': 0.6953846216201782}]\n",
      "[{'label': '3 stars', 'score': 0.4069688618183136}]\n",
      "[{'label': '3 stars', 'score': 0.31204479932785034}]\n",
      "[{'label': '4 stars', 'score': 0.4548667073249817}]\n"
     ]
    }
   ],
   "source": [
    "for sentence in sent:\n",
    "    print(fine_class(sentence))"
   ]
  },
  {
   "cell_type": "code",
   "execution_count": 8,
   "metadata": {},
   "outputs": [
    {
     "data": {
      "text/plain": [
       "[{'label': '1 star', 'score': 0.6116578578948975}]"
      ]
     },
     "execution_count": 8,
     "metadata": {},
     "output_type": "execute_result"
    }
   ],
   "source": [
    "fine_class('the pizza is very bad')"
   ]
  },
  {
   "cell_type": "code",
   "execution_count": null,
   "metadata": {},
   "outputs": [],
   "source": []
  }
 ],
 "metadata": {
  "kernelspec": {
   "display_name": "Python 3",
   "language": "python",
   "name": "python3"
  },
  "language_info": {
   "codemirror_mode": {
    "name": "ipython",
    "version": 3
   },
   "file_extension": ".py",
   "mimetype": "text/x-python",
   "name": "python",
   "nbconvert_exporter": "python",
   "pygments_lexer": "ipython3",
   "version": "3.10.12"
  }
 },
 "nbformat": 4,
 "nbformat_minor": 2
}
