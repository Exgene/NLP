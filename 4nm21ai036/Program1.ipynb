{
 "cells": [
  {
   "cell_type": "markdown",
   "metadata": {},
   "source": [
    "# Python Inbuilt Function"
   ]
  },
  {
   "cell_type": "code",
   "execution_count": 8,
   "metadata": {},
   "outputs": [],
   "source": [
    "with open(\"wordToken.txt\") as f:\n",
    "    text = f.read()"
   ]
  },
  {
   "cell_type": "code",
   "execution_count": 9,
   "metadata": {},
   "outputs": [
    {
     "name": "stdout",
     "output_type": "stream",
     "text": [
      "Word: ['Before', 'we', 'can', 'explore', 'strategies', 'for', 'maintaining', 'motivation,', 'it', 'is', 'imperative', 'to', 'grasp', 'the', 'multifaceted', 'nature', 'of', 'motivation', 'itself.', 'Motivation', 'is', 'not', 'a', 'one-size-fits-all', 'concept', 'but', 'a', 'complex', 'interplay', 'of', 'psychological,', 'emotional,', 'and', 'environmental', 'factors.', 'To', 'gain', 'mastery', 'over', 'this', 'dynamic', 'force,', 'we', 'must', 'delve', 'into', 'these', 'nuances.', 'Motivation', 'can', 'take', 'two', 'primary', 'forms,', 'intrinsic', 'and', 'extrinsic.', 'Intrinsic', 'motivation', 'is', 'the', 'inner', 'fire', 'that', 'is', 'fueled', 'by', 'personal', 'satisfaction,', 'passion,', 'and', 'a', 'deep', 'sense', 'of', 'purpose.', 'It', 'emanates', 'from', 'within', 'and', 'is', 'sustained', 'by', 'the', 'joy', 'of', 'the', 'pursuit', 'itself.', 'Extrinsic', 'motivation,', 'on', 'the', 'other', 'hand,', 'is', 'influenced', 'by', 'external', 'rewards', 'like', 'money,', 'fame,', 'or', 'praise.', 'While', 'both', 'forms', 'of', 'motivation', 'have', 'their', 'place,', 'intrinsic', 'motivation', 'tends', 'to', 'be', 'more', 'sustainable', 'and', 'fulfilling', 'in', 'the', 'long', 'run.', 'Understanding', 'the', 'Motivation', 'Cycle', 'is', 'crucial', 'to', 'effective', 'motivation', 'management.', 'This', 'cycle', 'consists', 'of', 'three', 'phases:', 'initiation,', 'persistence,', 'and', 'completion.', 'Recognizing', 'these', 'phases', 'can', 'provide', 'valuable', 'insights', 'into', 'maintaining', 'motivation.', 'In', 'the', 'initiation', 'phase,', 'motivation', 'is', 'often', 'at', 'its', 'peak.', 'This', 'is', 'when', 'the', 'excitement', 'and', 'anticipation', 'of', 'a', 'new', 'goal', 'or', 'project', 'are', 'at', 'their', 'highest.', 'However,', 'this', 'initial', 'surge', 'of', 'motivation', 'is', 'often', 'short-lived,', 'making', 'it', 'essential', 'to', 'transition', 'into', 'the', 'persistence', 'phase.', 'The', 'persistence', 'phase', 'is', 'where', 'the', 'real', 'work', 'happens.', 'Motivation', 'can', 'fluctuate', 'during', 'this', 'phase,', 'but', 'this', 'is', 'when', 'consistent', 'effort', 'and', 'determination', 'are', 'required', 'to', 'achieve', 'your', 'goals.', 'Many', 'individuals', 'experience', 'a', 'dip', 'in', 'motivation', 'during', 'this', 'stage,', 'which', 'can', 'be', 'discouraging.']\n",
      "Sentence: ['Before we can explore strategies for maintaining motivation, it is imperative to grasp the multifaceted nature of motivation itself', ' Motivation is not a one-size-fits-all concept but a complex interplay of psychological, emotional, and environmental factors', ' To gain mastery over this dynamic force, we must delve into these nuances', '\\n\\nMotivation can take two primary forms, intrinsic and extrinsic', ' Intrinsic motivation is the inner fire that is fueled by personal satisfaction, passion, and a deep sense of purpose', ' It emanates from within and is sustained by the joy of the pursuit itself', ' Extrinsic motivation, on the other hand, is influenced by external rewards like money, fame, or praise', ' While both forms of motivation have their place, intrinsic motivation tends to be more sustainable and fulfilling in the long run', '\\n\\nUnderstanding the Motivation Cycle is crucial to effective motivation management', ' This cycle consists of three phases: initiation, persistence, and completion', ' Recognizing these phases can provide valuable insights into maintaining motivation', '\\n\\nIn the initiation phase, motivation is often at its peak', ' This is when the excitement and anticipation of a new goal or project are at their highest', ' However, this initial surge of motivation is often short-lived, making it essential to transition into the persistence phase', '\\n\\nThe persistence phase is where the real work happens', ' Motivation can fluctuate during this phase, but this is when consistent effort and determination are required to achieve your goals', ' Many individuals experience a dip in motivation during this stage, which can be discouraging', '']\n"
     ]
    }
   ],
   "source": [
    "word = text.split()\n",
    "sent = text.split(\".\")\n",
    "print(\"Word:\",word)\n",
    "print(\"Sentence:\",sent)"
   ]
  },
  {
   "cell_type": "markdown",
   "metadata": {},
   "source": [
    "# Regular Expression"
   ]
  },
  {
   "cell_type": "code",
   "execution_count": 10,
   "metadata": {},
   "outputs": [
    {
     "name": "stdout",
     "output_type": "stream",
     "text": [
      "Word Token: ['Before', 'we', 'can', 'explore', 'strategies', 'for', 'maintaining', 'motivation', 'it', 'is', 'imperative', 'to', 'grasp', 'the', 'multifaceted', 'nature', 'of', 'motivation', 'itself', 'Motivation', 'is', 'not', 'a', 'one', 'size', 'fits', 'all', 'concept', 'but', 'a', 'complex', 'interplay', 'of', 'psychological', 'emotional', 'and', 'environmental', 'factors', 'To', 'gain', 'mastery', 'over', 'this', 'dynamic', 'force', 'we', 'must', 'delve', 'into', 'these', 'nuances', 'Motivation', 'can', 'take', 'two', 'primary', 'forms', 'intrinsic', 'and', 'extrinsic', 'Intrinsic', 'motivation', 'is', 'the', 'inner', 'fire', 'that', 'is', 'fueled', 'by', 'personal', 'satisfaction', 'passion', 'and', 'a', 'deep', 'sense', 'of', 'purpose', 'It', 'emanates', 'from', 'within', 'and', 'is', 'sustained', 'by', 'the', 'joy', 'of', 'the', 'pursuit', 'itself', 'Extrinsic', 'motivation', 'on', 'the', 'other', 'hand', 'is', 'influenced', 'by', 'external', 'rewards', 'like', 'money', 'fame', 'or', 'praise', 'While', 'both', 'forms', 'of', 'motivation', 'have', 'their', 'place', 'intrinsic', 'motivation', 'tends', 'to', 'be', 'more', 'sustainable', 'and', 'fulfilling', 'in', 'the', 'long', 'run', 'Understanding', 'the', 'Motivation', 'Cycle', 'is', 'crucial', 'to', 'effective', 'motivation', 'management', 'This', 'cycle', 'consists', 'of', 'three', 'phases', 'initiation', 'persistence', 'and', 'completion', 'Recognizing', 'these', 'phases', 'can', 'provide', 'valuable', 'insights', 'into', 'maintaining', 'motivation', 'In', 'the', 'initiation', 'phase', 'motivation', 'is', 'often', 'at', 'its', 'peak', 'This', 'is', 'when', 'the', 'excitement', 'and', 'anticipation', 'of', 'a', 'new', 'goal', 'or', 'project', 'are', 'at', 'their', 'highest', 'However', 'this', 'initial', 'surge', 'of', 'motivation', 'is', 'often', 'short', 'lived', 'making', 'it', 'essential', 'to', 'transition', 'into', 'the', 'persistence', 'phase', 'The', 'persistence', 'phase', 'is', 'where', 'the', 'real', 'work', 'happens', 'Motivation', 'can', 'fluctuate', 'during', 'this', 'phase', 'but', 'this', 'is', 'when', 'consistent', 'effort', 'and', 'determination', 'are', 'required', 'to', 'achieve', 'your', 'goals', 'Many', 'individuals', 'experience', 'a', 'dip', 'in', 'motivation', 'during', 'this', 'stage', 'which', 'can', 'be', 'discouraging']\n",
      "Sentence Token: ['Before we can explore strategies for maintaining motivation, it is imperative to grasp the multifaceted nature of motivation itself', ' Motivation is not a one-size-fits-all concept but a complex interplay of psychological, emotional, and environmental factors', ' To gain mastery over this dynamic force, we must delve into these nuances', '\\n\\nMotivation can take two primary forms, intrinsic and extrinsic', ' Intrinsic motivation is the inner fire that is fueled by personal satisfaction, passion, and a deep sense of purpose', ' It emanates from within and is sustained by the joy of the pursuit itself', ' Extrinsic motivation, on the other hand, is influenced by external rewards like money, fame, or praise', ' While both forms of motivation have their place, intrinsic motivation tends to be more sustainable and fulfilling in the long run', '\\n\\nUnderstanding the Motivation Cycle is crucial to effective motivation management', ' This cycle consists of three phases: initiation, persistence, and completion', ' Recognizing these phases can provide valuable insights into maintaining motivation', '\\n\\nIn the initiation phase, motivation is often at its peak', ' This is when the excitement and anticipation of a new goal or project are at their highest', ' However, this initial surge of motivation is often short-lived, making it essential to transition into the persistence phase', '\\n\\nThe persistence phase is where the real work happens', ' Motivation can fluctuate during this phase, but this is when consistent effort and determination are required to achieve your goals', ' Many individuals experience a dip in motivation during this stage, which can be discouraging', '']\n"
     ]
    }
   ],
   "source": [
    "import re\n",
    "word = re.findall('[\\w]+',text)\n",
    "sent = re.compile('[.]').split(text)\n",
    "print(\"Word Token:\",word)\n",
    "print(\"Sentence Token:\",sent)"
   ]
  },
  {
   "cell_type": "markdown",
   "metadata": {},
   "source": [
    "# NLTK library"
   ]
  },
  {
   "cell_type": "code",
   "execution_count": 11,
   "metadata": {},
   "outputs": [
    {
     "name": "stderr",
     "output_type": "stream",
     "text": [
      "/usr/lib/python3/dist-packages/scipy/__init__.py:146: UserWarning: A NumPy version >=1.17.3 and <1.25.0 is required for this version of SciPy (detected version 1.26.3\n",
      "  warnings.warn(f\"A NumPy version >={np_minversion} and <{np_maxversion}\"\n",
      "[nltk_data] Downloading package punkt to /home/student/nltk_data...\n",
      "[nltk_data]   Package punkt is already up-to-date!\n"
     ]
    },
    {
     "data": {
      "text/plain": [
       "True"
      ]
     },
     "execution_count": 11,
     "metadata": {},
     "output_type": "execute_result"
    }
   ],
   "source": [
    "import nltk\n",
    "nltk.download('punkt')"
   ]
  },
  {
   "cell_type": "code",
   "execution_count": 13,
   "metadata": {},
   "outputs": [
    {
     "name": "stdout",
     "output_type": "stream",
     "text": [
      "word token: ['Before', 'we', 'can', 'explore', 'strategies', 'for', 'maintaining', 'motivation', ',', 'it', 'is', 'imperative', 'to', 'grasp', 'the', 'multifaceted', 'nature', 'of', 'motivation', 'itself', '.', 'Motivation', 'is', 'not', 'a', 'one-size-fits-all', 'concept', 'but', 'a', 'complex', 'interplay', 'of', 'psychological', ',', 'emotional', ',', 'and', 'environmental', 'factors', '.', 'To', 'gain', 'mastery', 'over', 'this', 'dynamic', 'force', ',', 'we', 'must', 'delve', 'into', 'these', 'nuances', '.', 'Motivation', 'can', 'take', 'two', 'primary', 'forms', ',', 'intrinsic', 'and', 'extrinsic', '.', 'Intrinsic', 'motivation', 'is', 'the', 'inner', 'fire', 'that', 'is', 'fueled', 'by', 'personal', 'satisfaction', ',', 'passion', ',', 'and', 'a', 'deep', 'sense', 'of', 'purpose', '.', 'It', 'emanates', 'from', 'within', 'and', 'is', 'sustained', 'by', 'the', 'joy', 'of', 'the', 'pursuit', 'itself', '.', 'Extrinsic', 'motivation', ',', 'on', 'the', 'other', 'hand', ',', 'is', 'influenced', 'by', 'external', 'rewards', 'like', 'money', ',', 'fame', ',', 'or', 'praise', '.', 'While', 'both', 'forms', 'of', 'motivation', 'have', 'their', 'place', ',', 'intrinsic', 'motivation', 'tends', 'to', 'be', 'more', 'sustainable', 'and', 'fulfilling', 'in', 'the', 'long', 'run', '.', 'Understanding', 'the', 'Motivation', 'Cycle', 'is', 'crucial', 'to', 'effective', 'motivation', 'management', '.', 'This', 'cycle', 'consists', 'of', 'three', 'phases', ':', 'initiation', ',', 'persistence', ',', 'and', 'completion', '.', 'Recognizing', 'these', 'phases', 'can', 'provide', 'valuable', 'insights', 'into', 'maintaining', 'motivation', '.', 'In', 'the', 'initiation', 'phase', ',', 'motivation', 'is', 'often', 'at', 'its', 'peak', '.', 'This', 'is', 'when', 'the', 'excitement', 'and', 'anticipation', 'of', 'a', 'new', 'goal', 'or', 'project', 'are', 'at', 'their', 'highest', '.', 'However', ',', 'this', 'initial', 'surge', 'of', 'motivation', 'is', 'often', 'short-lived', ',', 'making', 'it', 'essential', 'to', 'transition', 'into', 'the', 'persistence', 'phase', '.', 'The', 'persistence', 'phase', 'is', 'where', 'the', 'real', 'work', 'happens', '.', 'Motivation', 'can', 'fluctuate', 'during', 'this', 'phase', ',', 'but', 'this', 'is', 'when', 'consistent', 'effort', 'and', 'determination', 'are', 'required', 'to', 'achieve', 'your', 'goals', '.', 'Many', 'individuals', 'experience', 'a', 'dip', 'in', 'motivation', 'during', 'this', 'stage', ',', 'which', 'can', 'be', 'discouraging', '.']\n",
      "\n",
      "\n",
      "sentence token: ['Before we can explore strategies for maintaining motivation, it is imperative to grasp the multifaceted nature of motivation itself.', 'Motivation is not a one-size-fits-all concept but a complex interplay of psychological, emotional, and environmental factors.', 'To gain mastery over this dynamic force, we must delve into these nuances.', 'Motivation can take two primary forms, intrinsic and extrinsic.', 'Intrinsic motivation is the inner fire that is fueled by personal satisfaction, passion, and a deep sense of purpose.', 'It emanates from within and is sustained by the joy of the pursuit itself.', 'Extrinsic motivation, on the other hand, is influenced by external rewards like money, fame, or praise.', 'While both forms of motivation have their place, intrinsic motivation tends to be more sustainable and fulfilling in the long run.', 'Understanding the Motivation Cycle is crucial to effective motivation management.', 'This cycle consists of three phases: initiation, persistence, and completion.', 'Recognizing these phases can provide valuable insights into maintaining motivation.', 'In the initiation phase, motivation is often at its peak.', 'This is when the excitement and anticipation of a new goal or project are at their highest.', 'However, this initial surge of motivation is often short-lived, making it essential to transition into the persistence phase.', 'The persistence phase is where the real work happens.', 'Motivation can fluctuate during this phase, but this is when consistent effort and determination are required to achieve your goals.', 'Many individuals experience a dip in motivation during this stage, which can be discouraging.']\n"
     ]
    }
   ],
   "source": [
    "from nltk.tokenize import word_tokenize, sent_tokenize\n",
    "word = word_tokenize(text)\n",
    "sent = sent_tokenize(text)\n",
    "print('word token:',word)\n",
    "print('\\n')\n",
    "print('sentence token:',sent)"
   ]
  },
  {
   "cell_type": "markdown",
   "metadata": {},
   "source": [
    "# Using Spacy"
   ]
  },
  {
   "cell_type": "code",
   "execution_count": 15,
   "metadata": {},
   "outputs": [
    {
     "name": "stdout",
     "output_type": "stream",
     "text": [
      "Defaulting to user installation because normal site-packages is not writeable\n",
      "Collecting en-core-web-sm==3.7.1\n",
      "  Downloading https://github.com/explosion/spacy-models/releases/download/en_core_web_sm-3.7.1/en_core_web_sm-3.7.1-py3-none-any.whl (12.8 MB)\n",
      "\u001b[2K     \u001b[90m━━━━━━━━━━━━━━━━━━━━━━━━━━━━━━━━━━━━━━━\u001b[0m \u001b[32m12.8/12.8 MB\u001b[0m \u001b[31m982.7 kB/s\u001b[0m eta \u001b[36m0:00:00\u001b[0m00:01\u001b[0m00:01\u001b[0m\n",
      "\u001b[?25hRequirement already satisfied: spacy<3.8.0,>=3.7.2 in /home/student/.local/lib/python3.10/site-packages (from en-core-web-sm==3.7.1) (3.7.2)\n",
      "Requirement already satisfied: spacy-legacy<3.1.0,>=3.0.11 in /home/student/.local/lib/python3.10/site-packages (from spacy<3.8.0,>=3.7.2->en-core-web-sm==3.7.1) (3.0.12)\n",
      "Requirement already satisfied: spacy-loggers<2.0.0,>=1.0.0 in /home/student/.local/lib/python3.10/site-packages (from spacy<3.8.0,>=3.7.2->en-core-web-sm==3.7.1) (1.0.5)\n",
      "Requirement already satisfied: murmurhash<1.1.0,>=0.28.0 in /home/student/.local/lib/python3.10/site-packages (from spacy<3.8.0,>=3.7.2->en-core-web-sm==3.7.1) (1.0.10)\n",
      "Requirement already satisfied: cymem<2.1.0,>=2.0.2 in /home/student/.local/lib/python3.10/site-packages (from spacy<3.8.0,>=3.7.2->en-core-web-sm==3.7.1) (2.0.8)\n",
      "Requirement already satisfied: preshed<3.1.0,>=3.0.2 in /home/student/.local/lib/python3.10/site-packages (from spacy<3.8.0,>=3.7.2->en-core-web-sm==3.7.1) (3.0.9)\n",
      "Requirement already satisfied: thinc<8.3.0,>=8.1.8 in /home/student/.local/lib/python3.10/site-packages (from spacy<3.8.0,>=3.7.2->en-core-web-sm==3.7.1) (8.2.2)\n",
      "Requirement already satisfied: wasabi<1.2.0,>=0.9.1 in /home/student/.local/lib/python3.10/site-packages (from spacy<3.8.0,>=3.7.2->en-core-web-sm==3.7.1) (1.1.2)\n",
      "Requirement already satisfied: srsly<3.0.0,>=2.4.3 in /home/student/.local/lib/python3.10/site-packages (from spacy<3.8.0,>=3.7.2->en-core-web-sm==3.7.1) (2.4.8)\n",
      "Requirement already satisfied: catalogue<2.1.0,>=2.0.6 in /home/student/.local/lib/python3.10/site-packages (from spacy<3.8.0,>=3.7.2->en-core-web-sm==3.7.1) (2.0.10)\n",
      "Requirement already satisfied: weasel<0.4.0,>=0.1.0 in /home/student/.local/lib/python3.10/site-packages (from spacy<3.8.0,>=3.7.2->en-core-web-sm==3.7.1) (0.3.4)\n",
      "Requirement already satisfied: typer<0.10.0,>=0.3.0 in /home/student/.local/lib/python3.10/site-packages (from spacy<3.8.0,>=3.7.2->en-core-web-sm==3.7.1) (0.9.0)\n",
      "Requirement already satisfied: smart-open<7.0.0,>=5.2.1 in /home/student/.local/lib/python3.10/site-packages (from spacy<3.8.0,>=3.7.2->en-core-web-sm==3.7.1) (6.4.0)\n",
      "Requirement already satisfied: tqdm<5.0.0,>=4.38.0 in /home/student/.local/lib/python3.10/site-packages (from spacy<3.8.0,>=3.7.2->en-core-web-sm==3.7.1) (4.66.1)\n",
      "Requirement already satisfied: requests<3.0.0,>=2.13.0 in /usr/lib/python3/dist-packages (from spacy<3.8.0,>=3.7.2->en-core-web-sm==3.7.1) (2.25.1)\n",
      "Requirement already satisfied: pydantic!=1.8,!=1.8.1,<3.0.0,>=1.7.4 in /home/student/.local/lib/python3.10/site-packages (from spacy<3.8.0,>=3.7.2->en-core-web-sm==3.7.1) (2.5.3)\n",
      "Requirement already satisfied: jinja2 in /usr/lib/python3/dist-packages (from spacy<3.8.0,>=3.7.2->en-core-web-sm==3.7.1) (3.0.3)\n",
      "Requirement already satisfied: setuptools in /usr/lib/python3/dist-packages (from spacy<3.8.0,>=3.7.2->en-core-web-sm==3.7.1) (59.6.0)\n",
      "Requirement already satisfied: packaging>=20.0 in /usr/lib/python3/dist-packages (from spacy<3.8.0,>=3.7.2->en-core-web-sm==3.7.1) (21.3)\n",
      "Requirement already satisfied: langcodes<4.0.0,>=3.2.0 in /home/student/.local/lib/python3.10/site-packages (from spacy<3.8.0,>=3.7.2->en-core-web-sm==3.7.1) (3.3.0)\n",
      "Requirement already satisfied: numpy>=1.19.0 in /home/student/.local/lib/python3.10/site-packages (from spacy<3.8.0,>=3.7.2->en-core-web-sm==3.7.1) (1.26.3)\n",
      "Requirement already satisfied: annotated-types>=0.4.0 in /home/student/.local/lib/python3.10/site-packages (from pydantic!=1.8,!=1.8.1,<3.0.0,>=1.7.4->spacy<3.8.0,>=3.7.2->en-core-web-sm==3.7.1) (0.6.0)\n",
      "Requirement already satisfied: pydantic-core==2.14.6 in /home/student/.local/lib/python3.10/site-packages (from pydantic!=1.8,!=1.8.1,<3.0.0,>=1.7.4->spacy<3.8.0,>=3.7.2->en-core-web-sm==3.7.1) (2.14.6)\n",
      "Requirement already satisfied: typing-extensions>=4.6.1 in /home/student/.local/lib/python3.10/site-packages (from pydantic!=1.8,!=1.8.1,<3.0.0,>=1.7.4->spacy<3.8.0,>=3.7.2->en-core-web-sm==3.7.1) (4.9.0)\n",
      "Requirement already satisfied: blis<0.8.0,>=0.7.8 in /home/student/.local/lib/python3.10/site-packages (from thinc<8.3.0,>=8.1.8->spacy<3.8.0,>=3.7.2->en-core-web-sm==3.7.1) (0.7.11)\n",
      "Requirement already satisfied: confection<1.0.0,>=0.0.1 in /home/student/.local/lib/python3.10/site-packages (from thinc<8.3.0,>=8.1.8->spacy<3.8.0,>=3.7.2->en-core-web-sm==3.7.1) (0.1.4)\n",
      "Requirement already satisfied: click<9.0.0,>=7.1.1 in /usr/lib/python3/dist-packages (from typer<0.10.0,>=0.3.0->spacy<3.8.0,>=3.7.2->en-core-web-sm==3.7.1) (8.0.3)\n",
      "Requirement already satisfied: cloudpathlib<0.17.0,>=0.7.0 in /home/student/.local/lib/python3.10/site-packages (from weasel<0.4.0,>=0.1.0->spacy<3.8.0,>=3.7.2->en-core-web-sm==3.7.1) (0.16.0)\n",
      "\u001b[38;5;2m✔ Download and installation successful\u001b[0m\n",
      "You can now load the package via spacy.load('en_core_web_sm')\n"
     ]
    }
   ],
   "source": [
    "!python3 -m spacy download en_core_web_sm"
   ]
  },
  {
   "cell_type": "code",
   "execution_count": null,
   "metadata": {},
   "outputs": [],
   "source": [
    "import spacy\n",
    "nlp = spacy.load('en_core_web_sm')\n",
    "doc = nlp(text)\n",
    "word = []\n",
    "for t in doc:\n",
    "    word.append(t.text)\n",
    "sent = []\n",
    "for t in doc.sents:\n",
    "    sent.append(t.text)\n",
    "\n",
    "print('Word Token:',word)\n",
    "print(\"Sentence Token:\",sent)"
   ]
  },
  {
   "cell_type": "code",
   "execution_count": null,
   "metadata": {},
   "outputs": [],
   "source": []
  }
 ],
 "metadata": {
  "kernelspec": {
   "display_name": "Python 3",
   "language": "python",
   "name": "python3"
  },
  "language_info": {
   "codemirror_mode": {
    "name": "ipython",
    "version": 3
   },
   "file_extension": ".py",
   "mimetype": "text/x-python",
   "name": "python",
   "nbconvert_exporter": "python",
   "pygments_lexer": "ipython3",
   "version": "3.10.12"
  },
  "orig_nbformat": 4
 },
 "nbformat": 4,
 "nbformat_minor": 2
}
